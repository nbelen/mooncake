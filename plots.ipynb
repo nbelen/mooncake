
%matplotlib inline
import matplotlib.pyplot as plt
x = [1,2,3,4,5]
y = [100,300,20,150,500]
plt.plot(x,y,'b--')




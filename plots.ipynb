finalmente lo veo
agregado por flor, tu trabajo esta bueno:
%matplotlib inline
import matplotlib.pyplot as plt
x = [1,2,3,4,5]
y = [100,300,20,150,500]
plt.plot(x,y,'b--')



